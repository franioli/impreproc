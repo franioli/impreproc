{
 "cells": [
  {
   "cell_type": "code",
   "execution_count": 22,
   "metadata": {},
   "outputs": [
    {
     "name": "stdout",
     "output_type": "stream",
     "text": [
      "The autoreload extension is already loaded. To reload it, use:\n",
      "  %reload_ext autoreload\n"
     ]
    }
   ],
   "source": [
    "%load_ext autoreload\n",
    "%autoreload 2\n",
    "\n",
    "import logging\n",
    "from importlib import import_module\n",
    "from pathlib import Path\n",
    "from typing import List, Union\n",
    "\n",
    "import numpy as np\n",
    "import pandas as pd\n",
    "\n",
    "from impreproc.camera import Calibration, Camera\n",
    "from impreproc.images import Image, ImageList\n",
    "from impreproc.renaming import ImageRenamer\n",
    "\n",
    "# Define parameters\n",
    "data_dir = Path(\"../data/renaming/matrice/DJI_202303031031_001\")\n",
    "image_ext = [\"jpg\"]\n",
    "dest_folder = Path(\"../res/preview\")\n",
    "base_name = \"IMG\"\n",
    "recursive = False\n",
    "delete_original = False\n",
    "overlay_name = True\n",
    "parallel = False\n",
    "\n",
    "# get only images from P1\n",
    "files = ImageList(\n",
    "    data_dir=data_dir,\n",
    "    image_ext=image_ext,\n",
    "    recursive=recursive,\n",
    ")\n"
   ]
  },
  {
   "cell_type": "code",
   "execution_count": 23,
   "metadata": {},
   "outputs": [],
   "source": [
    "# id = 0\n",
    "# img = Image(files[id])\n",
    "# exif = img.exif\n",
    "# K = img.get_intrinsics_from_exif()\n",
    "\n",
    "calib_path = \"../data/dji_p1_voltaMant2023_opencv.xml\"\n",
    "path = Path(calib_path)\n",
    "assert Path(path).suffix == \".xml\", \"File must be .xml\"\n",
    "\n",
    "w, h, K, dist = Calibration.read_agisoft_xml_opencv(path)\n",
    "# w, h, K, dist = Calibration.get_intrinsics_from_exif(exif)\n",
    "cam = Camera(w, h, K, dist)"
   ]
  },
  {
   "cell_type": "code",
   "execution_count": 16,
   "metadata": {},
   "outputs": [
    {
     "data": {
      "text/plain": [
       "array([-0.047216262839257575, 0.0308447883589685, -0.0015482505579380297,\n",
       "       0.0020161563271389412, -0.1129380594093339, None], dtype=object)"
      ]
     },
     "execution_count": 16,
     "metadata": {},
     "output_type": "execute_result"
    }
   ],
   "source": [
    "cam.dist"
   ]
  },
  {
   "cell_type": "code",
   "execution_count": 27,
   "metadata": {},
   "outputs": [
    {
     "data": {
      "text/plain": [
       "True"
      ]
     },
     "execution_count": 27,
     "metadata": {},
     "output_type": "execute_result"
    }
   ],
   "source": [
    "from impreproc.renaming import make_previews\n",
    "dest_folder.mkdir(exist_ok=True, parents=True)\n",
    "file = files[0]\n",
    "fct = 0.5\n",
    "\n",
    "\n",
    "new_K = make_previews(\n",
    "    fname=file,\n",
    "    dest_folder=dest_folder,\n",
    "    resize_factor=fct,\n",
    "    undistort=True,\n",
    "    camera=cam,\n",
    "    overlay_name=True,\n",
    "    output_format=\"png\",\n",
    ")"
   ]
  }
 ],
 "metadata": {
  "kernelspec": {
   "display_name": "imgpreproc",
   "language": "python",
   "name": "python3"
  },
  "language_info": {
   "codemirror_mode": {
    "name": "ipython",
    "version": 3
   },
   "file_extension": ".py",
   "mimetype": "text/x-python",
   "name": "python",
   "nbconvert_exporter": "python",
   "pygments_lexer": "ipython3",
   "version": "3.9.16"
  },
  "orig_nbformat": 4
 },
 "nbformat": 4,
 "nbformat_minor": 2
}
