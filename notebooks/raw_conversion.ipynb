{
 "cells": [
  {
   "cell_type": "code",
   "execution_count": 2,
   "metadata": {},
   "outputs": [],
   "source": [
    "%load_ext autoreload\n",
    "%autoreload 2\n",
    "\n",
    "from tqdm import tqdm\n",
    "\n",
    "from impreproc.images import Image, ImageList\n",
    "from impreproc.conversion import convert_raw, RawConverter\n",
    "\n",
    "# Raw Conversion with Rawtherapee\n",
    "# Note that in notebooks, the path are relative to the notebooks folder!\n",
    "data_dir = \"../data/conversion/\"\n",
    "image_ext = \"dng\"\n",
    "output_dir = \"../res/converted\"\n",
    "pp3_path = \"../data/conversion/dji_p1_lightContrast_amaze0px.pp3\"\n",
    "recursive = True\n",
    "rawtherapee_opts = (\"-j100\", \"-js3\", \"-Y\")\n",
    "\n",
    "# Get list of files\n",
    "files = ImageList(data_dir, image_ext=image_ext, recursive=recursive)"
   ]
  },
  {
   "attachments": {},
   "cell_type": "markdown",
   "metadata": {},
   "source": [
    "#### Convert raw files"
   ]
  },
  {
   "cell_type": "code",
   "execution_count": 1,
   "metadata": {},
   "outputs": [
    {
     "ename": "NameError",
     "evalue": "name 'convert_raw' is not defined",
     "output_type": "error",
     "traceback": [
      "\u001b[1;31m---------------------------------------------------------------------------\u001b[0m",
      "\u001b[1;31mNameError\u001b[0m                                 Traceback (most recent call last)",
      "Cell \u001b[1;32mIn[1], line 4\u001b[0m\n\u001b[0;32m      1\u001b[0m \u001b[39m# Examples for convert single image with convert_raw function\u001b[39;00m\n\u001b[0;32m      2\u001b[0m \n\u001b[0;32m      3\u001b[0m \u001b[39m# To convert a raw image file named 'my_raw_image.CR2' to JPEG format with 90% compression, apply a pp3 processing profile \u001b[39;00m\n\u001b[1;32m----> 4\u001b[0m ret \u001b[39m=\u001b[39m convert_raw(fname\u001b[39m=\u001b[39mfiles[\u001b[39m0\u001b[39m], output_path\u001b[39m=\u001b[39moutput_dir, profile_path\u001b[39m=\u001b[39mpp3_path)\n\u001b[0;32m      5\u001b[0m \u001b[39mprint\u001b[39m(ret)\n\u001b[0;32m      8\u001b[0m \u001b[39m# Convert a raw image file named 'my_raw_image.CR2' to 16 bit TIF format and apply a pp3 processing profile\u001b[39;00m\n",
      "\u001b[1;31mNameError\u001b[0m: name 'convert_raw' is not defined"
     ]
    }
   ],
   "source": [
    "# Examples for convert single image with convert_raw function\n",
    "\n",
    "# To convert a raw image file named 'my_raw_image.CR2' to JPEG format with 90% compression, apply a pp3 processing profile \n",
    "ret = convert_raw(fname=files[0], output_path=output_dir, profile_path=pp3_path)\n",
    "print(ret)\n",
    "\n",
    "\n",
    "# Convert a raw image file named 'my_raw_image.CR2' to 16 bit TIF format and apply a pp3 processing profile\n",
    "ret = convert_raw(fname=files[0], output_path=output_dir, profile_path=pp3_path, opts=['-t', '-b8', \"-Y\"])\n",
    "print(ret)"
   ]
  },
  {
   "cell_type": "code",
   "execution_count": 3,
   "metadata": {},
   "outputs": [
    {
     "name": "stderr",
     "output_type": "stream",
     "text": [
      "WARNING:root:Destination folder ..\\res\\converted already exists. Existing files may be overwritten.\n",
      "19it [06:22, 22.16s/it]"
     ]
    }
   ],
   "source": [
    "# Batch convert images with RawConverter class\n",
    "converter = RawConverter(\n",
    "    output_dir=output_dir,\n",
    "    pp3_path=pp3_path,\n",
    "    opts=rawtherapee_opts,\n",
    "    keep_dir_tree=True,\n",
    ")\n",
    "converter.convert(files)"
   ]
  }
 ],
 "metadata": {
  "kernelspec": {
   "display_name": "imgpreproc",
   "language": "python",
   "name": "python3"
  },
  "language_info": {
   "codemirror_mode": {
    "name": "ipython",
    "version": 3
   },
   "file_extension": ".py",
   "mimetype": "text/x-python",
   "name": "python",
   "nbconvert_exporter": "python",
   "pygments_lexer": "ipython3",
   "version": "3.10.11"
  },
  "orig_nbformat": 4
 },
 "nbformat": 4,
 "nbformat_minor": 2
}
