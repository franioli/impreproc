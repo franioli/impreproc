{
 "cells": [
  {
   "attachments": {},
   "cell_type": "markdown",
   "metadata": {},
   "source": [
    "#### Import modules and define parameters\n"
   ]
  },
  {
   "cell_type": "code",
   "execution_count": 10,
   "metadata": {},
   "outputs": [
    {
     "name": "stderr",
     "output_type": "stream",
     "text": [
      "/home/francesco/phd/impreproc/src/impreproc/renaming.py:211: SyntaxWarning: \"is\" with a literal. Did you mean \"==\"?\n",
      "  if dest_folder is \"previews\":\n"
     ]
    }
   ],
   "source": [
    "from pathlib import Path\n",
    "\n",
    "import pandas as pd\n",
    "\n",
    "from impreproc.images import Image, ImageList\n",
    "from impreproc.renaming import ImageRenamer\n",
    "\n",
    "# Define parameters\n",
    "# Note that in Jupyter Notebooks, the path are relative to the notebooks folder!\n",
    "\n",
    "# Image path. It can be a single folder containing all images or a folder cointiaing subfolders with the images (recursive option must be set to True)\n",
    "data_dir = Path(\"/mnt/phd/ronconi/img_potree\")\n",
    "\n",
    "# Path to the prior classes file (optional). It is a .csv file with two columns: \"name\" and \"class\", without the header. If present, a column \"class\" will be added to the output Pandas Dataframe\n",
    "# prior_class_file = data_dir / \"prior_classes.csv\"\n",
    "\n",
    "# Define extensions of the file to read as a list of strings. \n",
    "# It can be a single file extension [\"JPG\"] or multiples extensions [\"jpg\", \"PNG\", \"DNG\"] \n",
    "image_ext = [\"jpg\"] \n",
    "\n",
    "# Read images recursively in subbofolders\n",
    "recursive = False\n",
    "\n",
    "# Destination folder\n",
    "dest_folder = data_dir / \"renamed/\"\n",
    "\n",
    "# Base name for the renamed images  \n",
    "base_name = \"DJI\"\n",
    "\n",
    "# Add a progressive ID after the base name\n",
    "progressive_id = True\n",
    "\n",
    "# Overlay name on the image\n",
    "overlay_name = True\n",
    "\n",
    "# Delete original files\n",
    "delete_original = False\n",
    "\n",
    "# Process images in parallel using all the cores available in the machine for speed up the process (it only works when progressive_id is False)\n",
    "parallel = True"
   ]
  },
  {
   "attachments": {},
   "cell_type": "markdown",
   "metadata": {},
   "source": [
    "#### Get list of files\n"
   ]
  },
  {
   "cell_type": "code",
   "execution_count": 3,
   "metadata": {},
   "outputs": [
    {
     "name": "stdout",
     "output_type": "stream",
     "text": [
      "/mnt/phd/ronconi/img_potree/DJI_0009.JPG\n",
      "/mnt/phd/ronconi/img_potree/DJI_0012.JPG\n",
      "/mnt/phd/ronconi/img_potree/DJI_0013.JPG\n",
      "/mnt/phd/ronconi/img_potree/DJI_0020.JPG\n",
      "/mnt/phd/ronconi/img_potree/DJI_0021.JPG\n"
     ]
    }
   ],
   "source": [
    "# Get image list\n",
    "files = ImageList(data_dir, image_ext=image_ext, recursive=recursive)\n",
    "\n",
    "# See first 5 files to check if everything is ok\n",
    "files.head"
   ]
  },
  {
   "attachments": {},
   "cell_type": "markdown",
   "metadata": {},
   "source": [
    "#### Rename images and saving output to Pandas df"
   ]
  },
  {
   "cell_type": "code",
   "execution_count": 3,
   "metadata": {},
   "outputs": [
    {
     "name": "stderr",
     "output_type": "stream",
     "text": [
      "100%|██████████| 25/25 [00:06<00:00,  3.97it/s]\n"
     ]
    }
   ],
   "source": [
    "# Create ImageRenamer object\n",
    "renamer = ImageRenamer(\n",
    "    image_list=files,\n",
    "    dest_folder=dest_folder,\n",
    "    base_name=base_name,\n",
    "    progressive_ids=progressive_id,\n",
    "    delete_original=delete_original,\n",
    "    # parallel=parallel,\n",
    "    # prior_class_file=prior_class_file,\n",
    ")\n",
    "\n",
    "# Rename files and get Pandas Dataframe with old and new names\n",
    "df = renamer.rename()\n",
    "\n",
    "# Save Pandas Dataframe as .csv and .parquet file\n",
    "df.to_csv(dest_folder/\"renaming_dict.csv\", index=False)\n",
    "df.to_parquet(dest_folder/\"renaming_dict.parquet\")"
   ]
  },
  {
   "cell_type": "code",
   "execution_count": 10,
   "metadata": {},
   "outputs": [],
   "source": [
    "# Save Pandas Dataframe as .csv and .parquet file\n",
    "df.to_csv(dest_folder/\"renaming_dict.csv\", index=False)\n",
    "df.to_parquet(dest_folder/\"renaming_dict.parquet\")"
   ]
  },
  {
   "attachments": {},
   "cell_type": "markdown",
   "metadata": {},
   "source": [
    "#### Make previews for Potree"
   ]
  },
  {
   "cell_type": "code",
   "execution_count": 5,
   "metadata": {},
   "outputs": [
    {
     "name": "stderr",
     "output_type": "stream",
     "text": [
      "  0%|          | 0/25 [00:00<?, ?it/s]"
     ]
    },
    {
     "name": "stderr",
     "output_type": "stream",
     "text": [
      "100%|██████████| 25/25 [00:12<00:00,  2.07it/s]\n"
     ]
    }
   ],
   "source": [
    "# Make previews for Potree by overlaying the name on the image\n",
    "# This method is not fully implemented yet (resizing and normalizing by the focal length is missing)\n",
    "\n",
    "# Create ImageRenamer object\n",
    "renamer = ImageRenamer(\n",
    "    image_list=files,\n",
    "    dest_folder=data_dir / \"previews\",\n",
    "    base_name=base_name,\n",
    ")\n",
    "renamer.make_previews()"
   ]
  },
  {
   "cell_type": "code",
   "execution_count": 12,
   "metadata": {},
   "outputs": [],
   "source": [
    "# Low light image enhancement\n",
    "from impreproc.thirdparty.low_light_image_enhancement import enhance_image_exposure\n",
    "from pathlib import Path\n",
    "import cv2 \n",
    "\n",
    "file = \"data/DJI_20230516113434_0070.JPG\"\n",
    "# parser.add_argument(\"-g\", '--gamma', default=0.6, type=float,\n",
    "#                     help=\"the gamma correction parameter.\")\n",
    "# parser.add_argument(\"-l\", '--lambda_', default=0.15, type=float,\n",
    "#                     help=\"the weight for balancing the two terms in the illumination refinement optimization objective.\")\n",
    "# parser.add_argument(\"-ul\", \"--lime\", action='store_true',\n",
    "#                     help=\"Use the LIME method. By default, the DUAL method is used.\")\n",
    "# parser.add_argument(\"-s\", '--sigma', default=3, type=int,\n",
    "#                     help=\"Spatial standard deviation for spatial affinity based Gaussian weights.\")\n",
    "# parser.add_argument(\"-bc\", default=1, type=float,\n",
    "#                     help=\"parameter for controlling the influence of Mertens's contrast measure.\")\n",
    "# parser.add_argument(\"-bs\", default=1, type=float,\n",
    "#                     help=\"parameter for controlling the influence of Mertens's saturation measure.\")\n",
    "# parser.add_argument(\"-be\", default=1, type=float,\n",
    "#                     help=\"parameter for controlling the influence of Mertens's well exposedness measure.\")\n",
    "# parser.add_argument(\"-eps\", default=1e-3, type=float,\n",
    "#                     help=\"constant to avoid computation instability.\")\n",
    "\n",
    "gamma = 0.6\n",
    "lambda_ = 0.15\n",
    "lime = True\n",
    "sigma = 3\n",
    "bc = 1\n",
    "bs = 1\n",
    "be = 1\n",
    "eps = 1e-3\n",
    "\n",
    "fname = Path(file)\n",
    "root_dir = Path.cwd().parent\n",
    "image = cv2.imread(str(root_dir/fname))   \n",
    "enhanced_image = enhance_image_exposure(image, gamma, lambda_, not lime,\n",
    "                                        sigma=sigma, bc=bc, bs=bs, be=be, eps=eps)\n",
    "method = \"LIME\" if lime else \"DUAL\"\n",
    "out_name = f\"{fname.stem}_{method}_g{gamma}_l{lambda_}{fname.suffix}\"\n",
    "cv2.imwrite(str(fname.parent/out_name), enhanced_image)"
   ]
  }
 ],
 "metadata": {
  "kernelspec": {
   "display_name": "imgpreproc",
   "language": "python",
   "name": "python3"
  },
  "language_info": {
   "codemirror_mode": {
    "name": "ipython",
    "version": 3
   },
   "file_extension": ".py",
   "mimetype": "text/x-python",
   "name": "python",
   "nbconvert_exporter": "python",
   "pygments_lexer": "ipython3",
   "version": "3.10.12"
  },
  "orig_nbformat": 4
 },
 "nbformat": 4,
 "nbformat_minor": 2
}
