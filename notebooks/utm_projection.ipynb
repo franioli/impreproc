{
 "cells": [
  {
   "cell_type": "code",
   "execution_count": 3,
   "metadata": {},
   "outputs": [
    {
     "name": "stdout",
     "output_type": "stream",
     "text": [
      "The autoreload extension is already loaded. To reload it, use:\n",
      "  %reload_ext autoreload\n"
     ]
    }
   ],
   "source": [
    "%load_ext autoreload\n",
    "%autoreload 2\n",
    "\n",
    "import numpy as np\n",
    "\n",
    "from impreproc.transformations import Transformer\n",
    "from impreproc.djimrk import get_images, merge_mrk_exif_data, mrkread\n",
    "\n",
    "\n",
    "# Define main parameters\n",
    "data_dir = \"../data/mrk_info/DJI_202303031031_001\"\n",
    "mkr_file = \"../data/mrk_info/DJI_202303031031_001/DJI_202303031031_001_Timestamp.MRK\"\n",
    "image_ext = \"jpg\"\n",
    "epsg_from = 4326  # ETRS89\n",
    "epsg_to = 32632  # UTM zone 32N"
   ]
  },
  {
   "cell_type": "code",
   "execution_count": 4,
   "metadata": {},
   "outputs": [
    {
     "name": "stdout",
     "output_type": "stream",
     "text": [
      "Image 2 not found in EXIF data.\n"
     ]
    }
   ],
   "source": [
    "# Read MRK file and exif data\n",
    "mrk_dict = mrkread(mkr_file)\n",
    "exif_dict = get_images(data_dir, image_ext)\n",
    "merged_data = merge_mrk_exif_data(mrk_dict, exif_dict)"
   ]
  },
  {
   "attachments": {},
   "cell_type": "markdown",
   "metadata": {},
   "source": [
    "#### Project to UTM"
   ]
  },
  {
   "cell_type": "code",
   "execution_count": 6,
   "metadata": {},
   "outputs": [],
   "source": [
    "# Simple plantimetric projection to UTM\n",
    "\n",
    "# Define a sample point in lat/lon/ellh\n",
    "lat, lon, ellh = 45.463873, 9.190653, 100.0\n",
    "\n",
    "\n",
    "# Create simple Transformer object\n",
    "transformer = Transformer(epsg_from=epsg_from,epsg_to=epsg_to)\n",
    "x, y = transformer.transform(lat, lon)\n",
    "\n",
    "# Check that the result is correct\n",
    "assert np.isclose(x, 514904.631, rtol=1e-4)\n",
    "assert np.isclose(y, 5034500.589, rtol=1e-4)\n"
   ]
  }
 ],
 "metadata": {
  "kernelspec": {
   "display_name": "imgpreproc",
   "language": "python",
   "name": "python3"
  },
  "language_info": {
   "codemirror_mode": {
    "name": "ipython",
    "version": 3
   },
   "file_extension": ".py",
   "mimetype": "text/x-python",
   "name": "python",
   "nbconvert_exporter": "python",
   "pygments_lexer": "ipython3",
   "version": "3.9.16"
  },
  "orig_nbformat": 4
 },
 "nbformat": 4,
 "nbformat_minor": 2
}
